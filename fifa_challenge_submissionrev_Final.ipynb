{
 "cells": [
  {
   "cell_type": "code",
   "execution_count": 1,
   "id": "dc8388a3",
   "metadata": {},
   "outputs": [],
   "source": [
    "import pandas as pd\n",
    "import numpy as np"
   ]
  },
  {
   "cell_type": "code",
   "execution_count": 2,
   "id": "adee27f9",
   "metadata": {},
   "outputs": [],
   "source": [
    "fifa=pd.read_csv('fifa21_train.csv')"
   ]
  },
  {
   "cell_type": "code",
   "execution_count": 3,
   "id": "22b2034e",
   "metadata": {},
   "outputs": [],
   "source": [
    "pd.set_option('display.max_columns', None) # TO DISPLAY ALL COLUMNS\n",
    "#display(fifa)"
   ]
  },
  {
   "cell_type": "code",
   "execution_count": null,
   "id": "d4cfbeb3",
   "metadata": {},
   "outputs": [],
   "source": []
  },
  {
   "cell_type": "markdown",
   "id": "9e7e23be",
   "metadata": {},
   "source": [
    "# Functions"
   ]
  },
  {
   "cell_type": "code",
   "execution_count": 4,
   "id": "1bb050cf",
   "metadata": {},
   "outputs": [],
   "source": [
    "def clean_position(df):\n",
    "    df2=df.copy()\n",
    "    na_in_position_indexes = list(df2[df2['Position'].isna()==True].index)# filters out into a list the na  row indexes from \"Position\" column lable. Position column index = 6  \n",
    "    df2.iloc[na_in_position_indexes, 6] = df2.iloc[na_in_position_indexes, 5] # 6&5 being the respective indexes for 'Position'column label and 'BP'column label\n",
    "    return df2"
   ]
  },
  {
   "cell_type": "code",
   "execution_count": null,
   "id": "141b353c",
   "metadata": {},
   "outputs": [],
   "source": []
  },
  {
   "cell_type": "code",
   "execution_count": 5,
   "id": "abade1cd",
   "metadata": {},
   "outputs": [],
   "source": [
    "def clean_club (df):\n",
    "    df2=df.copy()\n",
    "    df2['Club'] = df2['Club'].fillna('TBD')\n",
    "    return df2"
   ]
  },
  {
   "cell_type": "code",
   "execution_count": null,
   "id": "6a630458",
   "metadata": {},
   "outputs": [],
   "source": []
  },
  {
   "cell_type": "code",
   "execution_count": 6,
   "id": "200fd207",
   "metadata": {},
   "outputs": [],
   "source": [
    "def clean_AW(df):\n",
    "    df2=df.copy()\n",
    "    df['A/W'] = df['A/W'] .fillna('Medium')\n",
    "    return df2"
   ]
  },
  {
   "cell_type": "code",
   "execution_count": 7,
   "id": "e805e368",
   "metadata": {},
   "outputs": [],
   "source": [
    "def clean_DW(df):\n",
    "    df2=df.copy()\n",
    "    df2['D/W'] = df2['D/W'] .fillna('Medium')\n",
    "    return df2"
   ]
  },
  {
   "cell_type": "code",
   "execution_count": null,
   "id": "64e6644c",
   "metadata": {},
   "outputs": [],
   "source": []
  },
  {
   "cell_type": "code",
   "execution_count": 8,
   "id": "34212055",
   "metadata": {},
   "outputs": [],
   "source": [
    "def meannum(df):\n",
    "    df2=df.copy()\n",
    "    for column in ['Volleys','Vision','Jumping','Balance','Agility','Curve','Composure','Interceptions','Positioning','Sliding Tackle']:\n",
    "        df2[column] = df2[column].fillna(df2[column].mean())\n",
    "\n",
    "    return df2\n",
    "\n",
    "# CODE ABOVE DID NOT CODE. CHECK LATER!\n",
    "\n",
    "# def meannum(df):\n",
    "#     df2=df.copy()\n",
    "#     df2['Volleys'] = df2['Volleys'].fillna(df2['Volleys'].mean())\n",
    "#     df2['Vision'] = df2['Vision'].fillna(df2['Vision'].mean())\n",
    "#     df2['Jumping'] = df2['Jumping'].fillna(df2['Jumping'].mean())\n",
    "#     df2['Balance'] = df2['Balance'].fillna(df2['Balance'].mean())\n",
    "#     df2['Agility'] = df2['Agility'].fillna(df2['Agility'].mean())\n",
    "#     df2['Curve'] = df2['Curve'].fillna(df2['Curve'].mean())\n",
    "#     df2['Composure'] = df2['Composure'].fillna(df2['Composure'].mean())\n",
    "#     df2['Interceptions'] = df2['Interceptions'].fillna(df2['Interceptions'].mean())\n",
    "#     df2['Positioning'] = df2['Positioning'].fillna(df2['Positioning'].mean())\n",
    "#     df2['Sliding Tackle'] = df2['Sliding Tackle'].fillna(df2['Sliding Tackle'].mean())\n",
    "#     return df2"
   ]
  },
  {
   "cell_type": "code",
   "execution_count": 9,
   "id": "7a6afae4",
   "metadata": {},
   "outputs": [],
   "source": [
    "fifa_new = meannum(fifa)"
   ]
  },
  {
   "cell_type": "code",
   "execution_count": 10,
   "id": "49a80e42",
   "metadata": {},
   "outputs": [
    {
     "data": {
      "text/plain": [
       "Club                18\n",
       "Position           288\n",
       "Joined              41\n",
       "Loan Date End    11072\n",
       "A/W                 59\n",
       "D/W                 59\n",
       "dtype: int64"
      ]
     },
     "execution_count": 10,
     "metadata": {},
     "output_type": "execute_result"
    }
   ],
   "source": [
    "fifa_new.isna().sum()[fifa_new.isna().sum()>0]"
   ]
  },
  {
   "cell_type": "code",
   "execution_count": 11,
   "id": "0be47952",
   "metadata": {},
   "outputs": [],
   "source": [
    "def add_values(text):\n",
    "    return sum([int(x) for x in text.split('+')])\n",
    "\n",
    "def adding(df):\n",
    "    df2 = df.copy()\n",
    "    for column in df2.columns[73:-1]:\n",
    "        df2[column] = df2[column].apply(add_values)\n",
    "        \n",
    "    return df2"
   ]
  },
  {
   "cell_type": "code",
   "execution_count": 12,
   "id": "ffd6845e",
   "metadata": {},
   "outputs": [],
   "source": [
    "def get_year(text):\n",
    "    if isinstance(text,str):\n",
    "        return int(text[-4:])\n",
    "    else:\n",
    "        return text\n",
    "def addcleanyear(df):\n",
    "    df2 = df.copy()\n",
    "    df2['Joined'] = df2.Joined.apply(get_year)\n",
    "    df2['Joined'] = df2['Joined'].fillna(round(df2.Joined.mean(),0))\n",
    "    \n",
    "    return df2"
   ]
  },
  {
   "cell_type": "code",
   "execution_count": 13,
   "id": "8bfb5231",
   "metadata": {},
   "outputs": [],
   "source": [
    "#fifa.head()"
   ]
  },
  {
   "cell_type": "code",
   "execution_count": 14,
   "id": "e2f049c0",
   "metadata": {},
   "outputs": [],
   "source": [
    "def dollarvalue(text):\n",
    "    if isinstance(text,str) and 'M' in text:\n",
    "        return float(text[1:-1]) * 1000000\n",
    "    \n",
    "    elif isinstance(text,str) and 'K' in text:\n",
    "        return float(text[1:-1]) * 1000\n",
    "    \n",
    "    elif isinstance(text,str):\n",
    "        return float(text[1:])\n",
    "    \n",
    "    else:\n",
    "        return 0\n",
    "def adddollarvalue(df):\n",
    "    df2 = df.copy()\n",
    "    for column in ['Value','Wage','Release Clause']:\n",
    "        df2[column] = df2[column].apply(dollarvalue)\n",
    "    \n",
    "    return df2"
   ]
  },
  {
   "cell_type": "code",
   "execution_count": null,
   "id": "7949ce73",
   "metadata": {},
   "outputs": [],
   "source": []
  },
  {
   "cell_type": "code",
   "execution_count": 15,
   "id": "723af51d",
   "metadata": {},
   "outputs": [],
   "source": [
    "def columndrop(df):\n",
    "    df2 = df.copy()\n",
    "    df2 = df2.drop(['Loan Date End'], axis=1)\n",
    "    \n",
    "    return df2"
   ]
  },
  {
   "cell_type": "code",
   "execution_count": 16,
   "id": "344b3d6f",
   "metadata": {},
   "outputs": [],
   "source": [
    "def Hitschangetonumeric(df):\n",
    "    df2 = df.copy()\n",
    "    df2['Hits'] =  pd.to_numeric(df2['Hits'], errors='coerce')\n",
    "    df2['Hits'] = df2['Hits'].fillna(round(df2.Hits.mean(),0))\n",
    "    return df2"
   ]
  },
  {
   "cell_type": "code",
   "execution_count": 17,
   "id": "585454f4",
   "metadata": {},
   "outputs": [],
   "source": [
    "def weight(text):\n",
    "    if isinstance(text,str):\n",
    "        return float(text[:-3])    \n",
    "    else:\n",
    "        return text\n",
    "def addweight(df):\n",
    "    df2 = df.copy()\n",
    "    df2['Weight'] = df2.Weight.apply(weight)\n",
    "    \n",
    "    return df2"
   ]
  },
  {
   "cell_type": "code",
   "execution_count": 18,
   "id": "21b65f66",
   "metadata": {},
   "outputs": [],
   "source": [
    "def heightconver(h):\n",
    "    h=h[:-1].split(\"'\")\n",
    "    return float(h[0])*0.3048 + float(h[1])*0.0254\n",
    "\n",
    "def addheightconver(df):\n",
    "    df2 = df.copy()\n",
    "    df2['Height'] = df2.Height.apply(heightconver)\n",
    "    return df2"
   ]
  },
  {
   "cell_type": "markdown",
   "id": "d511958b",
   "metadata": {},
   "source": [
    "# Mother function"
   ]
  },
  {
   "cell_type": "code",
   "execution_count": 19,
   "id": "048bfd0b",
   "metadata": {},
   "outputs": [],
   "source": [
    "def clean_df(df):\n",
    "    df2=df.copy()\n",
    "    df2['SM'] = df2['SM'].apply(lambda x: int(x[0]))\n",
    "    df2['IR'] = df2['IR'].apply(lambda x: int(x[0]))\n",
    "    df2['W/F'] = df2['W/F'].apply(lambda x: int(x[0]))\n",
    "    df2=clean_position(df2)\n",
    "    df2=clean_club(df2)\n",
    "    df2=clean_AW(df2)\n",
    "    df2=clean_DW(df2)\n",
    "    df2=meannum(df2)\n",
    "    df2=adding(df2)\n",
    "    df2=addcleanyear(df2)\n",
    "    df2=adddollarvalue(df2)\n",
    "    df2=columndrop(df2)\n",
    "    df2=Hitschangetonumeric(df2)\n",
    "    df2=addweight(df2)\n",
    "    df2=addheightconver(df2)\n",
    "    return df2"
   ]
  },
  {
   "cell_type": "code",
   "execution_count": 20,
   "id": "27278f6e",
   "metadata": {},
   "outputs": [],
   "source": [
    "fifa_clean = clean_df(fifa)"
   ]
  },
  {
   "cell_type": "code",
   "execution_count": null,
   "id": "29d4d884",
   "metadata": {},
   "outputs": [],
   "source": []
  },
  {
   "cell_type": "markdown",
   "id": "37ff007e",
   "metadata": {},
   "source": [
    "# END of functions & Cleaning"
   ]
  },
  {
   "cell_type": "code",
   "execution_count": 21,
   "id": "5024d567",
   "metadata": {},
   "outputs": [],
   "source": [
    "numerical= fifa_clean.select_dtypes([np.number]) # Numerical dataframes \n",
    "#display(numerical)"
   ]
  },
  {
   "cell_type": "code",
   "execution_count": 22,
   "id": "e1ce466b",
   "metadata": {},
   "outputs": [],
   "source": [
    "categorical=fifa_clean.select_dtypes(['object']) # Cagegorical dataframes \n",
    "#display(categorical)"
   ]
  },
  {
   "cell_type": "code",
   "execution_count": 23,
   "id": "9734e77d",
   "metadata": {},
   "outputs": [
    {
     "data": {
      "text/html": [
       "<div>\n",
       "<style scoped>\n",
       "    .dataframe tbody tr th:only-of-type {\n",
       "        vertical-align: middle;\n",
       "    }\n",
       "\n",
       "    .dataframe tbody tr th {\n",
       "        vertical-align: top;\n",
       "    }\n",
       "\n",
       "    .dataframe thead th {\n",
       "        text-align: right;\n",
       "    }\n",
       "</style>\n",
       "<table border=\"1\" class=\"dataframe\">\n",
       "  <thead>\n",
       "    <tr style=\"text-align: right;\">\n",
       "      <th></th>\n",
       "      <th>count</th>\n",
       "      <th>mean</th>\n",
       "      <th>std</th>\n",
       "      <th>min</th>\n",
       "      <th>25%</th>\n",
       "      <th>50%</th>\n",
       "      <th>75%</th>\n",
       "      <th>max</th>\n",
       "    </tr>\n",
       "  </thead>\n",
       "  <tbody>\n",
       "    <tr>\n",
       "      <th>ID</th>\n",
       "      <td>11701.0</td>\n",
       "      <td>219436.649004</td>\n",
       "      <td>37480.006004</td>\n",
       "      <td>27.0000</td>\n",
       "      <td>204060.0000</td>\n",
       "      <td>229040.0000</td>\n",
       "      <td>244176.0000</td>\n",
       "      <td>259090.0000</td>\n",
       "    </tr>\n",
       "    <tr>\n",
       "      <th>Age</th>\n",
       "      <td>11701.0</td>\n",
       "      <td>25.270490</td>\n",
       "      <td>4.957640</td>\n",
       "      <td>16.0000</td>\n",
       "      <td>21.0000</td>\n",
       "      <td>25.0000</td>\n",
       "      <td>29.0000</td>\n",
       "      <td>43.0000</td>\n",
       "    </tr>\n",
       "    <tr>\n",
       "      <th>Height</th>\n",
       "      <td>11701.0</td>\n",
       "      <td>1.812252</td>\n",
       "      <td>0.069136</td>\n",
       "      <td>1.5494</td>\n",
       "      <td>1.7526</td>\n",
       "      <td>1.8034</td>\n",
       "      <td>1.8542</td>\n",
       "      <td>2.0574</td>\n",
       "    </tr>\n",
       "    <tr>\n",
       "      <th>Weight</th>\n",
       "      <td>11701.0</td>\n",
       "      <td>165.582429</td>\n",
       "      <td>15.828282</td>\n",
       "      <td>117.0000</td>\n",
       "      <td>154.0000</td>\n",
       "      <td>165.0000</td>\n",
       "      <td>176.0000</td>\n",
       "      <td>243.0000</td>\n",
       "    </tr>\n",
       "    <tr>\n",
       "      <th>Growth</th>\n",
       "      <td>11701.0</td>\n",
       "      <td>5.534655</td>\n",
       "      <td>5.810903</td>\n",
       "      <td>-1.0000</td>\n",
       "      <td>0.0000</td>\n",
       "      <td>4.0000</td>\n",
       "      <td>10.0000</td>\n",
       "      <td>26.0000</td>\n",
       "    </tr>\n",
       "    <tr>\n",
       "      <th>...</th>\n",
       "      <td>...</td>\n",
       "      <td>...</td>\n",
       "      <td>...</td>\n",
       "      <td>...</td>\n",
       "      <td>...</td>\n",
       "      <td>...</td>\n",
       "      <td>...</td>\n",
       "      <td>...</td>\n",
       "    </tr>\n",
       "    <tr>\n",
       "      <th>CB</th>\n",
       "      <td>11701.0</td>\n",
       "      <td>54.881634</td>\n",
       "      <td>14.412883</td>\n",
       "      <td>18.0000</td>\n",
       "      <td>44.0000</td>\n",
       "      <td>57.0000</td>\n",
       "      <td>66.0000</td>\n",
       "      <td>89.0000</td>\n",
       "    </tr>\n",
       "    <tr>\n",
       "      <th>RCB</th>\n",
       "      <td>11701.0</td>\n",
       "      <td>54.881634</td>\n",
       "      <td>14.412883</td>\n",
       "      <td>18.0000</td>\n",
       "      <td>44.0000</td>\n",
       "      <td>57.0000</td>\n",
       "      <td>66.0000</td>\n",
       "      <td>89.0000</td>\n",
       "    </tr>\n",
       "    <tr>\n",
       "      <th>RB</th>\n",
       "      <td>11701.0</td>\n",
       "      <td>56.173319</td>\n",
       "      <td>13.534768</td>\n",
       "      <td>15.0000</td>\n",
       "      <td>49.0000</td>\n",
       "      <td>59.0000</td>\n",
       "      <td>66.0000</td>\n",
       "      <td>86.0000</td>\n",
       "    </tr>\n",
       "    <tr>\n",
       "      <th>GK</th>\n",
       "      <td>11701.0</td>\n",
       "      <td>22.667977</td>\n",
       "      <td>14.524695</td>\n",
       "      <td>10.0000</td>\n",
       "      <td>17.0000</td>\n",
       "      <td>18.0000</td>\n",
       "      <td>20.0000</td>\n",
       "      <td>91.0000</td>\n",
       "    </tr>\n",
       "    <tr>\n",
       "      <th>OVA</th>\n",
       "      <td>11701.0</td>\n",
       "      <td>66.921972</td>\n",
       "      <td>6.876081</td>\n",
       "      <td>38.0000</td>\n",
       "      <td>62.0000</td>\n",
       "      <td>67.0000</td>\n",
       "      <td>72.0000</td>\n",
       "      <td>93.0000</td>\n",
       "    </tr>\n",
       "  </tbody>\n",
       "</table>\n",
       "<p>90 rows × 8 columns</p>\n",
       "</div>"
      ],
      "text/plain": [
       "          count           mean           std       min          25%  \\\n",
       "ID      11701.0  219436.649004  37480.006004   27.0000  204060.0000   \n",
       "Age     11701.0      25.270490      4.957640   16.0000      21.0000   \n",
       "Height  11701.0       1.812252      0.069136    1.5494       1.7526   \n",
       "Weight  11701.0     165.582429     15.828282  117.0000     154.0000   \n",
       "Growth  11701.0       5.534655      5.810903   -1.0000       0.0000   \n",
       "...         ...            ...           ...       ...          ...   \n",
       "CB      11701.0      54.881634     14.412883   18.0000      44.0000   \n",
       "RCB     11701.0      54.881634     14.412883   18.0000      44.0000   \n",
       "RB      11701.0      56.173319     13.534768   15.0000      49.0000   \n",
       "GK      11701.0      22.667977     14.524695   10.0000      17.0000   \n",
       "OVA     11701.0      66.921972      6.876081   38.0000      62.0000   \n",
       "\n",
       "                50%          75%          max  \n",
       "ID      229040.0000  244176.0000  259090.0000  \n",
       "Age         25.0000      29.0000      43.0000  \n",
       "Height       1.8034       1.8542       2.0574  \n",
       "Weight     165.0000     176.0000     243.0000  \n",
       "Growth       4.0000      10.0000      26.0000  \n",
       "...             ...          ...          ...  \n",
       "CB          57.0000      66.0000      89.0000  \n",
       "RCB         57.0000      66.0000      89.0000  \n",
       "RB          59.0000      66.0000      86.0000  \n",
       "GK          18.0000      20.0000      91.0000  \n",
       "OVA         67.0000      72.0000      93.0000  \n",
       "\n",
       "[90 rows x 8 columns]"
      ]
     },
     "execution_count": 23,
     "metadata": {},
     "output_type": "execute_result"
    }
   ],
   "source": [
    "numerical.describe().T"
   ]
  },
  {
   "cell_type": "code",
   "execution_count": 24,
   "id": "89eb5bd3",
   "metadata": {},
   "outputs": [],
   "source": [
    "import sklearn\n",
    "from sklearn.preprocessing import MinMaxScaler \n",
    "from sklearn.model_selection import train_test_split\n",
    "from sklearn.preprocessing import StandardScaler\n",
    "from sklearn.linear_model import LinearRegression\n",
    "from sklearn.metrics import mean_squared_error, r2_score"
   ]
  },
  {
   "cell_type": "code",
   "execution_count": 25,
   "id": "425126f9",
   "metadata": {},
   "outputs": [],
   "source": [
    "y = numerical['OVA']\n",
    "X = numerical.drop(['OVA'], axis=1)"
   ]
  },
  {
   "cell_type": "code",
   "execution_count": 26,
   "id": "1fc64555",
   "metadata": {},
   "outputs": [
    {
     "data": {
      "text/plain": [
       "Series([], dtype: int64)"
      ]
     },
     "execution_count": 26,
     "metadata": {},
     "output_type": "execute_result"
    }
   ],
   "source": [
    "X.isna().sum()[X.isna().sum()>0]"
   ]
  },
  {
   "cell_type": "code",
   "execution_count": 27,
   "id": "87dfcccb",
   "metadata": {},
   "outputs": [],
   "source": [
    "X_train, X_test, y_train, y_test = train_test_split(X, y, test_size=0.2, random_state=14) # SPLIT COMPLETE"
   ]
  },
  {
   "cell_type": "code",
   "execution_count": 43,
   "id": "697fec6b",
   "metadata": {
    "scrolled": true
   },
   "outputs": [
    {
     "name": "stdout",
     "output_type": "stream",
     "text": [
      "(9360, 89)\n",
      "(2341, 89)\n"
     ]
    }
   ],
   "source": [
    "MinMaxScalertransformer = MinMaxScaler().fit(X_train)\n",
    "X_train_normalized = MinMaxScalertransformer.transform(X_train)\n",
    "#display(X_train_normalized)\n",
    "print(X_train_normalized.shape)\n",
    "#display(pd.DataFrame(X_train_normalized, columns=X_train.columns))\n",
    "X_test_normalized = MinMaxScalertransformer.transform(X_test)\n",
    "#display(X_test_normalized)\n",
    "print(X_test_normalized.shape)\n",
    "#display(pd.DataFrame(X_test_normalized, columns=X_test.columns))"
   ]
  },
  {
   "cell_type": "code",
   "execution_count": 44,
   "id": "3fc79245",
   "metadata": {},
   "outputs": [],
   "source": [
    "X_train_normalized=(pd.DataFrame(X_train_normalized, columns=X_train.columns))\n",
    "X_test_normalized=(pd.DataFrame(X_test_normalized, columns=X_test.columns))"
   ]
  },
  {
   "cell_type": "code",
   "execution_count": 45,
   "id": "9d680ccb",
   "metadata": {},
   "outputs": [
    {
     "data": {
      "text/plain": [
       "LinearRegression()"
      ]
     },
     "execution_count": 45,
     "metadata": {},
     "output_type": "execute_result"
    }
   ],
   "source": [
    "lm = LinearRegression()\n",
    "lm.fit(X_train_normalized,y_train)"
   ]
  },
  {
   "cell_type": "code",
   "execution_count": 46,
   "id": "0dc1e5dd",
   "metadata": {},
   "outputs": [
    {
     "data": {
      "text/plain": [
       "0.9123369838592966"
      ]
     },
     "execution_count": 46,
     "metadata": {},
     "output_type": "execute_result"
    }
   ],
   "source": [
    "y_pred_train = lm.predict(X_train_normalized)\n",
    "r2_score(y_train, y_pred_train)"
   ]
  },
  {
   "cell_type": "code",
   "execution_count": 47,
   "id": "2e89aaf8",
   "metadata": {},
   "outputs": [
    {
     "data": {
      "text/plain": [
       "0.9104442523798137"
      ]
     },
     "execution_count": 47,
     "metadata": {},
     "output_type": "execute_result"
    }
   ],
   "source": [
    "y_pred_test = lm.predict(X_test_normalized)\n",
    "r2_score(y_test, y_pred_test)"
   ]
  },
  {
   "cell_type": "code",
   "execution_count": 48,
   "id": "4aa5507b",
   "metadata": {},
   "outputs": [
    {
     "data": {
      "text/plain": [
       "46.161678780554176"
      ]
     },
     "execution_count": 48,
     "metadata": {},
     "output_type": "execute_result"
    }
   ],
   "source": [
    "lm.intercept_"
   ]
  },
  {
   "cell_type": "code",
   "execution_count": 49,
   "id": "cfad579f",
   "metadata": {},
   "outputs": [
    {
     "data": {
      "text/plain": [
       "array([-1.03830943e+00,  4.16202237e-01, -1.17467523e+00,  7.26311122e-01,\n",
       "       -3.27180025e+00, -1.24138464e+00,  1.88543923e+01, -3.59035384e-01,\n",
       "       -5.40042491e+00,  4.38652905e+00, -3.61456174e+00, -5.53839723e+00,\n",
       "        5.52548926e+00, -2.26839851e+00, -1.67917321e+00,  2.96507544e+00,\n",
       "       -9.79778658e+00, -9.21723773e-01, -2.04356892e-01, -6.68343172e+00,\n",
       "        1.31353938e+00,  1.68574012e+01, -5.76271335e+00, -6.08536367e+00,\n",
       "       -5.36721467e+00,  9.69810055e+00, -4.84797851e+00,  6.16057520e+00,\n",
       "       -2.17505684e+00, -1.37801513e+00, -7.43739081e+00, -3.43997715e+00,\n",
       "       -4.99961004e+00, -1.94746193e+01,  2.54947521e+00,  1.27140060e-01,\n",
       "       -1.24018939e+00,  2.11300933e-02,  5.47185096e+00,  5.53026613e+00,\n",
       "        6.26272693e+00, -2.47437234e+00, -4.09559968e+00, -4.36845696e+00,\n",
       "       -4.11355799e+01,  1.17993327e+01,  1.13674897e+01,  7.89081589e+00,\n",
       "        1.24460728e+01,  1.10844227e+01, -7.66754209e+00,  7.11320802e+00,\n",
       "       -8.45752054e-02,  2.78351879e+00,  7.65910265e-01,  2.81158859e+00,\n",
       "        4.53543209e+00,  2.91288624e+00,  1.22580994e+01, -1.83917616e+00,\n",
       "        6.73339550e+00,  2.04829159e+00,  4.73738768e+00,  4.73738768e+00,\n",
       "        4.73738768e+00, -4.53216141e-01, -1.82102484e+00, -1.82102484e+00,\n",
       "       -1.82102484e+00, -4.53216141e-01, -1.64243952e+00, -1.64243952e+00,\n",
       "       -1.64243952e+00,  6.59540417e+00,  1.72192412e+00,  1.72192412e+00,\n",
       "        1.72192412e+00,  6.59540417e+00,  8.04410524e-01,  8.33239771e+00,\n",
       "        8.33239771e+00,  8.33239771e+00,  8.04410524e-01,  9.14116753e+00,\n",
       "       -4.82266825e+00, -4.82266825e+00, -4.82266825e+00,  9.14116753e+00,\n",
       "       -1.33146075e+01])"
      ]
     },
     "execution_count": 49,
     "metadata": {},
     "output_type": "execute_result"
    }
   ],
   "source": [
    "lm.coef_"
   ]
  },
  {
   "cell_type": "code",
   "execution_count": null,
   "id": "8779a792",
   "metadata": {},
   "outputs": [],
   "source": []
  }
 ],
 "metadata": {
  "kernelspec": {
   "display_name": "Python 3 (ipykernel)",
   "language": "python",
   "name": "python3"
  },
  "language_info": {
   "codemirror_mode": {
    "name": "ipython",
    "version": 3
   },
   "file_extension": ".py",
   "mimetype": "text/x-python",
   "name": "python",
   "nbconvert_exporter": "python",
   "pygments_lexer": "ipython3",
   "version": "3.9.7"
  }
 },
 "nbformat": 4,
 "nbformat_minor": 5
}
